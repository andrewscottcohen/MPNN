{
 "cells": [
  {
   "cell_type": "markdown",
   "id": "single-circus",
   "metadata": {},
   "source": [
    "# Message-Passing Neural Networks\n",
    "### This assignment walks through how to build Message-Passing Neural Network models for two different molecular properties: atomization energy and band gap energy. We also will see how the design of a network can have a large influence on the accuracy of a machine learning model."
   ]
  },
  {
   "cell_type": "code",
   "execution_count": 1,
   "id": "general-gasoline",
   "metadata": {},
   "outputs": [],
   "source": [
    "%matplotlib inline\n",
    "from typing import List, Tuple\n",
    "from matplotlib import pyplot as plt\n",
    "from mpnn.data import make_data_loader\n",
    "from mpnn.data import make_tfrecord\n",
    "from sklearn.model_selection import train_test_split\n",
    "from rdkit import Chem\n",
    "from tqdm import tqdm\n",
    "import tensorflow as tf\n",
    "import pandas as pd\n",
    "import numpy as np\n",
    "import json\n",
    "import mpnn\n",
    "from tensorflow.keras.models import Model\n",
    "from tensorflow.keras import layers\n",
    "from mpnn.layers import Readout, Squeeze, Scaling\n",
    "from mordred import Calculator, descriptors\n",
    "from sklearn.preprocessing import StandardScaler"
   ]
  },
  {
   "cell_type": "markdown",
   "id": "conditional-airline",
   "metadata": {},
   "source": [
    "## Question 1: Making data loaders.\n",
    "\n",
    "Our first step to create data loaders for the training, validation, and test data from the datasets provided with this repository.\n",
    "\n",
    "Use the make_loader function the mpnn library to create a data loader for each, with batch_size of 32. You can change the output property for each loader and a few other key settings:"
   ]
  },
  {
   "cell_type": "code",
   "execution_count": 2,
   "id": "canadian-meditation",
   "metadata": {},
   "outputs": [],
   "source": [
    "test_loader = mpnn.data.make_data_loader('C:/Users/ascoh/Desktop/UChicago/Academics/2020-21/Q2 2021/AI for MatSci/Datasets/test_data.proto', \n",
    "                                        batch_size=32)\n",
    "\n",
    "train_loader = mpnn.data.make_data_loader('C:/Users/ascoh/Desktop/UChicago/Academics/2020-21/Q2 2021/AI for MatSci/Datasets/train_data.proto', \n",
    "                                        batch_size=32, \n",
    "                                        shuffle_buffer=128)\n",
    "\n",
    "valid_loader = mpnn.data.make_data_loader('C:/Users/ascoh/Desktop/UChicago/Academics/2020-21/Q2 2021/AI for MatSci/Datasets/valid_data.proto', \n",
    "                                        batch_size=32)"
   ]
  },
  {
   "cell_type": "markdown",
   "id": "interracial-chile",
   "metadata": {},
   "source": [
    "### Q\n",
    "\n",
    "1. It's generally a rule of thumb to enable \"shuffle\" when creating the training data loader. Why is that? Which parameter do you set?\n",
    "\n",
    "       In order to enable 'shuffle' when creating the training loader we set a shuffle_buffer. This assures that we get different training data for each batch and therefore epoch. This ensures that our model gets properly trained.\n",
    "      \n",
    "\n",
    "2. Sample a few batches from the training data? What is the average of the output variable?"
   ]
  },
  {
   "cell_type": "code",
   "execution_count": 3,
   "id": "inclusive-seafood",
   "metadata": {},
   "outputs": [
    {
     "name": "stdout",
     "output_type": "stream",
     "text": [
      "Batch 1:-2.674006938934326\n",
      "Batch 2:-2.6162660121917725\n",
      "Batch 4:-2.8316829204559326\n",
      "Batch 8:-2.8804171085357666\n",
      "Batch 16:-2.8419809341430664\n",
      "Batch 32:-2.758903980255127\n",
      "\n",
      " The output average is: -2.895298957824707\n"
     ]
    }
   ],
   "source": [
    "inputs, outputs = next(iter(train_loader))\n",
    "\n",
    "sample_outputs=outputs.numpy()\n",
    "\n",
    "for s in (0,1,3,7,15,31):\n",
    "    print(f'Batch {s+1}:{sample_outputs[s]}')\n",
    "    \n",
    "    output_avg=np.average(sample_outputs)\n",
    "print(f'\\n The output average is: {output_avg}')"
   ]
  },
  {
   "cell_type": "markdown",
   "id": "rising-strap",
   "metadata": {},
   "source": [
    "## Question 2: Training a network for real\n",
    "\n",
    "Step 1: We need to make a few modifications to the make_model function from the MPNN example notebook to build a network that will get noteworthy training accuracies:\n",
    "\n",
    "Add a parameter that allows you change to which readout function is used for the Readout layer.\n",
    "\n",
    "Add a Dense layer with 'relu' activation and 32 units between the readout and the output layer.\n",
    "\n",
    "Add \"scaling layer\" from mpnn.layers (i.e., from mpnn.layers import Scaling) after the current output layer, use the output of the scaling layer as the output of the model. Pass your Scaling layer a name of \"scaling\" (i.e., Scaling(name='scaling'))"
   ]
  },
  {
   "cell_type": "code",
   "execution_count": 4,
   "id": "solar-basis",
   "metadata": {},
   "outputs": [],
   "source": [
    "class MessagePassingLayer(layers.Layer):\n",
    "    \"\"\"Perform the message passing step\"\"\"\n",
    "\n",
    "    def call(self, atom_features, bond_features, connectivity):\n",
    "        \"\"\"Perform the message passing steps.\n",
    "        \n",
    "        Takes the atom and bond features with the connectivity as inputs\n",
    "        and produces a new set of atom features.\n",
    "        \"\"\"\n",
    "        # Get the features for the atoms at each side of a bond\n",
    "        source_atom = tf.gather(atom_features, connectivity[:, 0])\n",
    "        target_atom = tf.gather(atom_features, connectivity[:, 1])\n",
    "\n",
    "        # Make messages based on the \"far side\" of the bond and the bond type\n",
    "        all_messages = tf.multiply(bond_features, target_atom)\n",
    "\n",
    "        # Sum them up and add them to the original features\n",
    "        messages = tf.math.segment_sum(all_messages, connectivity[:, 0])\n",
    "        atom_features = atom_features + messages\n",
    "        return atom_features"
   ]
  },
  {
   "cell_type": "code",
   "execution_count": 5,
   "id": "refined-artwork",
   "metadata": {},
   "outputs": [],
   "source": [
    "def make_model(num_features: int, num_messages: int, readout_func: str = 'sum'):\n",
    "    \"\"\"Build an MPNN\n",
    "    \n",
    "    \n",
    "    Args:\n",
    "        num_features: Number of features to use to describe each atom and bond\n",
    "        num_messages: Number of message passing steps\n",
    "    Returns:\n",
    "        Keras models that generate molecule property\n",
    "    \"\"\"\n",
    "    \n",
    "    # The first step is to define which inputs to expand and their shapes/types\n",
    "    node_graph_indices = layers.Input(shape=(1,), name='node_graph_indices', dtype='int32')\n",
    "    atom_types = layers.Input(shape=(1,), name='atom', dtype='int32')\n",
    "    bond_types = layers.Input(shape=(1,), name='bond', dtype='int32')\n",
    "    connectivity = layers.Input(shape=(2,), name='connectivity', dtype='int32')\n",
    "\n",
    "    # Squeeze the node graph and connectivity matrices\n",
    "    #  Keras makes all input arrays 2D, I find it easier to deal with them as 1D vectors\n",
    "    #  The squeeze operation removes the second dimension, and I use Kera's Lambda layer\n",
    "    #  to quickly wrap a simple Tensorflow function\n",
    "    squeeze = layers.Lambda(tf.squeeze, arguments={'axis': 1}, name='squeeze')\n",
    "    snode_graph_indices = squeeze(node_graph_indices)\n",
    "    satom_types = squeeze(atom_types)\n",
    "    sbond_types = squeeze(bond_types)\n",
    "    \n",
    "    # Generate initial features for each atom and bond using embeddings\n",
    "    atom_features = layers.Embedding(6, num_features, name='atom_embedding')(satom_types)\n",
    "    bond_features = layers.Embedding(4, num_features, name='bond_embedding')(sbond_types)\n",
    "    \n",
    "    # Perform a few message passing steps\n",
    "    message_layer = MessagePassingLayer(name='message_passing')\n",
    "    for _ in range(num_messages):\n",
    "        atom_features = message_layer(atom_features, bond_features, connectivity)\n",
    "        \n",
    "    # Reduce to a single set of features per molecule\n",
    "    mol_features = Readout(readout_func, name='readout')(atom_features, snode_graph_indices)\n",
    "    \n",
    "    #\n",
    "    x = layers.Dense(32, activation='relu', name='dense')(mol_features)\n",
    "    \n",
    "    #Create the output layer\n",
    "    output = layers.Dense(1, activation='linear', name='output')(x)\n",
    "    \n",
    "    # Scaling\n",
    "    output = Scaling(name='scaling')(output)\n",
    "    \n",
    "    # Create the models by defining which layers are the inputs and which are the outputs\n",
    "    model = Model(inputs=[node_graph_indices, atom_types, bond_types, connectivity], outputs=output)\n",
    "    return model"
   ]
  },
  {
   "cell_type": "markdown",
   "id": "progressive-charlotte",
   "metadata": {},
   "source": [
    "Step 2: build a model with 64 features, 2 message passing layers and a \"sum\" readout function."
   ]
  },
  {
   "cell_type": "code",
   "execution_count": 6,
   "id": "conscious-screening",
   "metadata": {},
   "outputs": [
    {
     "name": "stdout",
     "output_type": "stream",
     "text": [
      "Model: \"model\"\n",
      "__________________________________________________________________________________________________\n",
      "Layer (type)                    Output Shape         Param #     Connected to                     \n",
      "==================================================================================================\n",
      "atom (InputLayer)               [(None, 1)]          0                                            \n",
      "__________________________________________________________________________________________________\n",
      "bond (InputLayer)               [(None, 1)]          0                                            \n",
      "__________________________________________________________________________________________________\n",
      "squeeze (Lambda)                (None,)              0           node_graph_indices[0][0]         \n",
      "                                                                 atom[0][0]                       \n",
      "                                                                 bond[0][0]                       \n",
      "__________________________________________________________________________________________________\n",
      "atom_embedding (Embedding)      (None, 64)           384         squeeze[1][0]                    \n",
      "__________________________________________________________________________________________________\n",
      "bond_embedding (Embedding)      (None, 64)           256         squeeze[2][0]                    \n",
      "__________________________________________________________________________________________________\n",
      "connectivity (InputLayer)       [(None, 2)]          0                                            \n",
      "__________________________________________________________________________________________________\n",
      "message_passing (MessagePassing (None, 64)           0           atom_embedding[0][0]             \n",
      "                                                                 bond_embedding[0][0]             \n",
      "                                                                 connectivity[0][0]               \n",
      "                                                                 message_passing[0][0]            \n",
      "                                                                 bond_embedding[0][0]             \n",
      "                                                                 connectivity[0][0]               \n",
      "__________________________________________________________________________________________________\n",
      "node_graph_indices (InputLayer) [(None, 1)]          0                                            \n",
      "__________________________________________________________________________________________________\n",
      "readout (Readout)               (None, 64)           0           message_passing[1][0]            \n",
      "                                                                 squeeze[0][0]                    \n",
      "__________________________________________________________________________________________________\n",
      "dense (Dense)                   (None, 32)           2080        readout[0][0]                    \n",
      "__________________________________________________________________________________________________\n",
      "output (Dense)                  (None, 1)            33          dense[0][0]                      \n",
      "__________________________________________________________________________________________________\n",
      "scaling (Scaling)               (None, 1)            2           output[0][0]                     \n",
      "==================================================================================================\n",
      "Total params: 2,755\n",
      "Trainable params: 2,755\n",
      "Non-trainable params: 0\n",
      "__________________________________________________________________________________________________\n"
     ]
    }
   ],
   "source": [
    "model=make_model(64,2,'sum')\n",
    "model.summary()"
   ]
  },
  {
   "cell_type": "markdown",
   "id": "rural-romance",
   "metadata": {},
   "source": [
    "Step 3: Pre-seed the value of the scaling layer with the mean and value of a batch from the training dataset."
   ]
  },
  {
   "cell_type": "code",
   "execution_count": 7,
   "id": "committed-playback",
   "metadata": {},
   "outputs": [],
   "source": [
    "scale = model.get_layer('scaling')\n",
    "scale.mean = outputs.numpy().mean()\n",
    "scale.std = outputs.numpy().std()"
   ]
  },
  {
   "cell_type": "markdown",
   "id": "meaning-extent",
   "metadata": {},
   "source": [
    "Step 4: Fit the model using an early stopping callback.\n",
    "\n",
    "Use both the training and validation loaders. Run for 128 epochs with a batch size of 32 with an early stopping patience of 8 epochs. Make sure to use restore_best_weights=True in your callback."
   ]
  },
  {
   "cell_type": "code",
   "execution_count": 8,
   "id": "lesser-lawrence",
   "metadata": {},
   "outputs": [],
   "source": [
    "callback=tf.keras.callbacks.EarlyStopping(\n",
    "    monitor='loss',\n",
    "    patience=8,\n",
    "    verbose=False,\n",
    "    restore_best_weights=True,\n",
    ")"
   ]
  },
  {
   "cell_type": "code",
   "execution_count": 9,
   "id": "decimal-spirit",
   "metadata": {},
   "outputs": [
    {
     "name": "stdout",
     "output_type": "stream",
     "text": [
      "Epoch 1/128\n"
     ]
    },
    {
     "name": "stderr",
     "output_type": "stream",
     "text": [
      "C:\\Users\\ascoh\\Anaconda3\\envs\\applied-ai\\lib\\site-packages\\tensorflow\\python\\keras\\engine\\functional.py:595: UserWarning: Input dict contained keys ['n_atom', 'n_bond', 'bond_graph_indices'] which did not match any model input. They will be ignored by the model.\n",
      "  [n for n in tensors.keys() if n not in ref_input_names])\n",
      "C:\\Users\\ascoh\\Anaconda3\\envs\\applied-ai\\lib\\site-packages\\tensorflow\\python\\framework\\indexed_slices.py:437: UserWarning: Converting sparse IndexedSlices(IndexedSlices(indices=Tensor(\"gradient_tape/model/message_passing/Reshape_3:0\", shape=(None,), dtype=int32), values=Tensor(\"gradient_tape/model/message_passing/Reshape_2:0\", shape=(None, 64), dtype=float32), dense_shape=Tensor(\"gradient_tape/model/message_passing/Cast:0\", shape=(2,), dtype=int32))) to a dense Tensor of unknown shape. This may consume a large amount of memory.\n",
      "  \"shape. This may consume a large amount of memory.\" % value)\n",
      "C:\\Users\\ascoh\\Anaconda3\\envs\\applied-ai\\lib\\site-packages\\tensorflow\\python\\framework\\indexed_slices.py:437: UserWarning: Converting sparse IndexedSlices(IndexedSlices(indices=Tensor(\"gradient_tape/model/message_passing/Reshape_7:0\", shape=(None,), dtype=int32), values=Tensor(\"gradient_tape/model/message_passing/Reshape_6:0\", shape=(None, 64), dtype=float32), dense_shape=Tensor(\"gradient_tape/model/message_passing/Cast_1:0\", shape=(2,), dtype=int32))) to a dense Tensor of unknown shape. This may consume a large amount of memory.\n",
      "  \"shape. This may consume a large amount of memory.\" % value)\n"
     ]
    },
    {
     "name": "stdout",
     "output_type": "stream",
     "text": [
      "633/633 [==============================] - 4s 4ms/step - loss: 0.0478 - val_loss: 0.0298\n",
      "Epoch 2/128\n",
      "633/633 [==============================] - 2s 3ms/step - loss: 0.0249 - val_loss: 0.0200\n",
      "Epoch 3/128\n",
      "633/633 [==============================] - 2s 3ms/step - loss: 0.0175 - val_loss: 0.0111\n",
      "Epoch 4/128\n",
      "633/633 [==============================] - 2s 3ms/step - loss: 0.0094 - val_loss: 0.0045\n",
      "Epoch 5/128\n",
      "633/633 [==============================] - 3s 4ms/step - loss: 0.0036 - val_loss: 0.0015\n",
      "Epoch 6/128\n",
      "633/633 [==============================] - 2s 3ms/step - loss: 0.0015 - val_loss: 0.0010\n",
      "Epoch 7/128\n",
      "633/633 [==============================] - 2s 3ms/step - loss: 0.0010 - val_loss: 9.4456e-04\n",
      "Epoch 8/128\n",
      "633/633 [==============================] - 2s 4ms/step - loss: 0.0011 - val_loss: 9.3879e-04\n",
      "Epoch 9/128\n",
      "633/633 [==============================] - 2s 3ms/step - loss: 0.0010 - val_loss: 0.0013\n",
      "Epoch 10/128\n",
      "633/633 [==============================] - 2s 3ms/step - loss: 0.0010 - val_loss: 7.4197e-04\n",
      "Epoch 11/128\n",
      "633/633 [==============================] - 2s 4ms/step - loss: 9.7065e-04 - val_loss: 9.1834e-04\n",
      "Epoch 12/128\n",
      "633/633 [==============================] - 2s 4ms/step - loss: 9.3157e-04 - val_loss: 8.2929e-04\n",
      "Epoch 13/128\n",
      "633/633 [==============================] - 2s 3ms/step - loss: 0.0010 - val_loss: 7.6932e-04\n",
      "Epoch 14/128\n",
      "633/633 [==============================] - 2s 3ms/step - loss: 9.5677e-04 - val_loss: 7.1668e-04\n",
      "Epoch 15/128\n",
      "633/633 [==============================] - 2s 3ms/step - loss: 8.8595e-04 - val_loss: 0.0011\n",
      "Epoch 16/128\n",
      "633/633 [==============================] - 2s 3ms/step - loss: 8.9756e-04 - val_loss: 7.4426e-04\n",
      "Epoch 17/128\n",
      "633/633 [==============================] - 2s 3ms/step - loss: 9.2063e-04 - val_loss: 7.6312e-04\n",
      "Epoch 18/128\n",
      "633/633 [==============================] - 2s 3ms/step - loss: 8.4424e-04 - val_loss: 9.1407e-04\n",
      "Epoch 19/128\n",
      "633/633 [==============================] - 3s 4ms/step - loss: 8.6675e-04 - val_loss: 7.4750e-04\n",
      "Epoch 20/128\n",
      "633/633 [==============================] - 2s 3ms/step - loss: 8.3906e-04 - val_loss: 0.0011\n",
      "Epoch 21/128\n",
      "633/633 [==============================] - 2s 4ms/step - loss: 8.7205e-04 - val_loss: 6.7591e-04\n",
      "Epoch 22/128\n",
      "633/633 [==============================] - 2s 3ms/step - loss: 8.0701e-04 - val_loss: 6.9892e-04\n",
      "Epoch 23/128\n",
      "633/633 [==============================] - 2s 3ms/step - loss: 8.2660e-04 - val_loss: 8.9374e-04\n",
      "Epoch 24/128\n",
      "633/633 [==============================] - 3s 4ms/step - loss: 8.1158e-04 - val_loss: 0.0012\n",
      "Epoch 25/128\n",
      "633/633 [==============================] - 2s 4ms/step - loss: 8.5005e-04 - val_loss: 7.9493e-04\n",
      "Epoch 26/128\n",
      "633/633 [==============================] - 2s 3ms/step - loss: 8.1788e-04 - val_loss: 0.0011\n",
      "Epoch 27/128\n",
      "633/633 [==============================] - 2s 3ms/step - loss: 8.6478e-04 - val_loss: 7.0193e-04\n",
      "Epoch 28/128\n",
      "633/633 [==============================] - 2s 3ms/step - loss: 9.8240e-04 - val_loss: 0.0016\n",
      "Epoch 29/128\n",
      "633/633 [==============================] - 2s 3ms/step - loss: 8.7733e-04 - val_loss: 7.5701e-04\n",
      "Epoch 30/128\n",
      "633/633 [==============================] - 2s 3ms/step - loss: 7.6459e-04 - val_loss: 8.8727e-04\n",
      "Epoch 31/128\n",
      "633/633 [==============================] - 2s 3ms/step - loss: 8.6690e-04 - val_loss: 6.5805e-04\n",
      "Epoch 32/128\n",
      "633/633 [==============================] - 2s 4ms/step - loss: 8.8476e-04 - val_loss: 6.6614e-04\n",
      "Epoch 33/128\n",
      "633/633 [==============================] - 2s 3ms/step - loss: 7.4963e-04 - val_loss: 7.0539e-04\n",
      "Epoch 34/128\n",
      "633/633 [==============================] - 2s 3ms/step - loss: 7.6058e-04 - val_loss: 7.3405e-04\n",
      "Epoch 35/128\n",
      "633/633 [==============================] - 2s 3ms/step - loss: 7.4692e-04 - val_loss: 6.7273e-04\n",
      "Epoch 36/128\n",
      "633/633 [==============================] - 2s 3ms/step - loss: 8.1416e-04 - val_loss: 6.5568e-04\n",
      "Epoch 37/128\n",
      "633/633 [==============================] - 2s 3ms/step - loss: 7.6739e-04 - val_loss: 6.9866e-04\n",
      "Epoch 38/128\n",
      "633/633 [==============================] - 2s 3ms/step - loss: 7.7766e-04 - val_loss: 0.0014\n",
      "Epoch 39/128\n",
      "633/633 [==============================] - 2s 4ms/step - loss: 7.8565e-04 - val_loss: 6.6182e-04\n",
      "Epoch 40/128\n",
      "633/633 [==============================] - 2s 3ms/step - loss: 7.3495e-04 - val_loss: 6.1289e-04\n",
      "Epoch 41/128\n",
      "633/633 [==============================] - 2s 3ms/step - loss: 7.2336e-04 - val_loss: 6.6558e-04\n",
      "Epoch 42/128\n",
      "633/633 [==============================] - 2s 3ms/step - loss: 7.6431e-04 - val_loss: 7.9502e-04\n",
      "Epoch 43/128\n",
      "633/633 [==============================] - 2s 3ms/step - loss: 8.5402e-04 - val_loss: 0.0011\n",
      "Epoch 44/128\n",
      "633/633 [==============================] - 2s 3ms/step - loss: 7.2877e-04 - val_loss: 8.5803e-04\n",
      "Epoch 45/128\n",
      "633/633 [==============================] - 2s 4ms/step - loss: 7.7850e-04 - val_loss: 6.2307e-04\n",
      "Epoch 46/128\n",
      "633/633 [==============================] - 2s 4ms/step - loss: 7.5429e-04 - val_loss: 7.5358e-04\n",
      "Epoch 47/128\n",
      "633/633 [==============================] - 2s 3ms/step - loss: 7.5646e-04 - val_loss: 0.0013\n",
      "Epoch 48/128\n",
      "633/633 [==============================] - 2s 3ms/step - loss: 7.7898e-04 - val_loss: 6.1476e-04\n",
      "Epoch 49/128\n",
      "633/633 [==============================] - 2s 3ms/step - loss: 7.4809e-04 - val_loss: 7.0181e-04\n"
     ]
    }
   ],
   "source": [
    "model.compile(optimizer='adam', loss='mean_squared_error')\n",
    "history = model.fit(train_loader, epochs=128, batch_size=32, \n",
    "                    callbacks=[callback], verbose=True, \n",
    "                    validation_data=(valid_loader)\n",
    "                   )\n",
    "y_pred = model.predict(train_loader)"
   ]
  },
  {
   "cell_type": "code",
   "execution_count": 10,
   "id": "crucial-branch",
   "metadata": {},
   "outputs": [
    {
     "name": "stdout",
     "output_type": "stream",
     "text": [
      "Evaluate on test data\n",
      "79/79 [==============================] - 1s 2ms/step - loss: 6.4971e-04\n",
      "test loss, test acc: 0.0006497114663943648\n"
     ]
    }
   ],
   "source": [
    "print(\"Evaluate on test data\")\n",
    "Eval = model.evaluate(test_loader)\n",
    "print(\"test loss, test acc:\", Eval)"
   ]
  },
  {
   "cell_type": "markdown",
   "id": "literary-aviation",
   "metadata": {},
   "source": [
    "Now, repeat steps 2-4 with 0, 1, 4 and 8 message passing layers (please use verbose=False when fitting, so the notebooks aren't huge):"
   ]
  },
  {
   "cell_type": "code",
   "execution_count": 11,
   "id": "latin-marking",
   "metadata": {},
   "outputs": [
    {
     "name": "stderr",
     "output_type": "stream",
     "text": [
      " 25%|█████████████████████                                                               | 1/4 [00:31<01:34, 31.51s/it]C:\\Users\\ascoh\\Anaconda3\\envs\\applied-ai\\lib\\site-packages\\tensorflow\\python\\framework\\indexed_slices.py:437: UserWarning: Converting sparse IndexedSlices(IndexedSlices(indices=Tensor(\"gradient_tape/model_2/message_passing/Reshape_3:0\", shape=(None,), dtype=int32), values=Tensor(\"gradient_tape/model_2/message_passing/Reshape_2:0\", shape=(None, 64), dtype=float32), dense_shape=Tensor(\"gradient_tape/model_2/message_passing/Cast:0\", shape=(2,), dtype=int32))) to a dense Tensor of unknown shape. This may consume a large amount of memory.\n",
      "  \"shape. This may consume a large amount of memory.\" % value)\n",
      " 50%|██████████████████████████████████████████                                          | 2/4 [01:43<01:50, 55.10s/it]C:\\Users\\ascoh\\Anaconda3\\envs\\applied-ai\\lib\\site-packages\\tensorflow\\python\\framework\\indexed_slices.py:437: UserWarning: Converting sparse IndexedSlices(IndexedSlices(indices=Tensor(\"gradient_tape/model_3/message_passing/Reshape_3:0\", shape=(None,), dtype=int32), values=Tensor(\"gradient_tape/model_3/message_passing/Reshape_2:0\", shape=(None, 64), dtype=float32), dense_shape=Tensor(\"gradient_tape/model_3/message_passing/Cast:0\", shape=(2,), dtype=int32))) to a dense Tensor of unknown shape. This may consume a large amount of memory.\n",
      "  \"shape. This may consume a large amount of memory.\" % value)\n",
      "C:\\Users\\ascoh\\Anaconda3\\envs\\applied-ai\\lib\\site-packages\\tensorflow\\python\\framework\\indexed_slices.py:437: UserWarning: Converting sparse IndexedSlices(IndexedSlices(indices=Tensor(\"gradient_tape/model_3/message_passing/Reshape_7:0\", shape=(None,), dtype=int32), values=Tensor(\"gradient_tape/model_3/message_passing/Reshape_6:0\", shape=(None, 64), dtype=float32), dense_shape=Tensor(\"gradient_tape/model_3/message_passing/Cast_1:0\", shape=(2,), dtype=int32))) to a dense Tensor of unknown shape. This may consume a large amount of memory.\n",
      "  \"shape. This may consume a large amount of memory.\" % value)\n",
      "C:\\Users\\ascoh\\Anaconda3\\envs\\applied-ai\\lib\\site-packages\\tensorflow\\python\\framework\\indexed_slices.py:437: UserWarning: Converting sparse IndexedSlices(IndexedSlices(indices=Tensor(\"gradient_tape/model_3/message_passing/Reshape_11:0\", shape=(None,), dtype=int32), values=Tensor(\"gradient_tape/model_3/message_passing/Reshape_10:0\", shape=(None, 64), dtype=float32), dense_shape=Tensor(\"gradient_tape/model_3/message_passing/Cast_2:0\", shape=(2,), dtype=int32))) to a dense Tensor of unknown shape. This may consume a large amount of memory.\n",
      "  \"shape. This may consume a large amount of memory.\" % value)\n",
      "C:\\Users\\ascoh\\Anaconda3\\envs\\applied-ai\\lib\\site-packages\\tensorflow\\python\\framework\\indexed_slices.py:437: UserWarning: Converting sparse IndexedSlices(IndexedSlices(indices=Tensor(\"gradient_tape/model_3/message_passing/Reshape_15:0\", shape=(None,), dtype=int32), values=Tensor(\"gradient_tape/model_3/message_passing/Reshape_14:0\", shape=(None, 64), dtype=float32), dense_shape=Tensor(\"gradient_tape/model_3/message_passing/Cast_3:0\", shape=(2,), dtype=int32))) to a dense Tensor of unknown shape. This may consume a large amount of memory.\n",
      "  \"shape. This may consume a large amount of memory.\" % value)\n",
      " 75%|██████████████████████████████████████████████████████████████▎                    | 3/4 [04:20<01:41, 101.98s/it]C:\\Users\\ascoh\\Anaconda3\\envs\\applied-ai\\lib\\site-packages\\tensorflow\\python\\framework\\indexed_slices.py:437: UserWarning: Converting sparse IndexedSlices(IndexedSlices(indices=Tensor(\"gradient_tape/model_4/message_passing/Reshape_3:0\", shape=(None,), dtype=int32), values=Tensor(\"gradient_tape/model_4/message_passing/Reshape_2:0\", shape=(None, 64), dtype=float32), dense_shape=Tensor(\"gradient_tape/model_4/message_passing/Cast:0\", shape=(2,), dtype=int32))) to a dense Tensor of unknown shape. This may consume a large amount of memory.\n",
      "  \"shape. This may consume a large amount of memory.\" % value)\n",
      "C:\\Users\\ascoh\\Anaconda3\\envs\\applied-ai\\lib\\site-packages\\tensorflow\\python\\framework\\indexed_slices.py:437: UserWarning: Converting sparse IndexedSlices(IndexedSlices(indices=Tensor(\"gradient_tape/model_4/message_passing/Reshape_7:0\", shape=(None,), dtype=int32), values=Tensor(\"gradient_tape/model_4/message_passing/Reshape_6:0\", shape=(None, 64), dtype=float32), dense_shape=Tensor(\"gradient_tape/model_4/message_passing/Cast_1:0\", shape=(2,), dtype=int32))) to a dense Tensor of unknown shape. This may consume a large amount of memory.\n",
      "  \"shape. This may consume a large amount of memory.\" % value)\n",
      "C:\\Users\\ascoh\\Anaconda3\\envs\\applied-ai\\lib\\site-packages\\tensorflow\\python\\framework\\indexed_slices.py:437: UserWarning: Converting sparse IndexedSlices(IndexedSlices(indices=Tensor(\"gradient_tape/model_4/message_passing/Reshape_11:0\", shape=(None,), dtype=int32), values=Tensor(\"gradient_tape/model_4/message_passing/Reshape_10:0\", shape=(None, 64), dtype=float32), dense_shape=Tensor(\"gradient_tape/model_4/message_passing/Cast_2:0\", shape=(2,), dtype=int32))) to a dense Tensor of unknown shape. This may consume a large amount of memory.\n",
      "  \"shape. This may consume a large amount of memory.\" % value)\n",
      "C:\\Users\\ascoh\\Anaconda3\\envs\\applied-ai\\lib\\site-packages\\tensorflow\\python\\framework\\indexed_slices.py:437: UserWarning: Converting sparse IndexedSlices(IndexedSlices(indices=Tensor(\"gradient_tape/model_4/message_passing/Reshape_15:0\", shape=(None,), dtype=int32), values=Tensor(\"gradient_tape/model_4/message_passing/Reshape_14:0\", shape=(None, 64), dtype=float32), dense_shape=Tensor(\"gradient_tape/model_4/message_passing/Cast_3:0\", shape=(2,), dtype=int32))) to a dense Tensor of unknown shape. This may consume a large amount of memory.\n",
      "  \"shape. This may consume a large amount of memory.\" % value)\n",
      "C:\\Users\\ascoh\\Anaconda3\\envs\\applied-ai\\lib\\site-packages\\tensorflow\\python\\framework\\indexed_slices.py:437: UserWarning: Converting sparse IndexedSlices(IndexedSlices(indices=Tensor(\"gradient_tape/model_4/message_passing/Reshape_19:0\", shape=(None,), dtype=int32), values=Tensor(\"gradient_tape/model_4/message_passing/Reshape_18:0\", shape=(None, 64), dtype=float32), dense_shape=Tensor(\"gradient_tape/model_4/message_passing/Cast_4:0\", shape=(2,), dtype=int32))) to a dense Tensor of unknown shape. This may consume a large amount of memory.\n",
      "  \"shape. This may consume a large amount of memory.\" % value)\n",
      "C:\\Users\\ascoh\\Anaconda3\\envs\\applied-ai\\lib\\site-packages\\tensorflow\\python\\framework\\indexed_slices.py:437: UserWarning: Converting sparse IndexedSlices(IndexedSlices(indices=Tensor(\"gradient_tape/model_4/message_passing/Reshape_23:0\", shape=(None,), dtype=int32), values=Tensor(\"gradient_tape/model_4/message_passing/Reshape_22:0\", shape=(None, 64), dtype=float32), dense_shape=Tensor(\"gradient_tape/model_4/message_passing/Cast_5:0\", shape=(2,), dtype=int32))) to a dense Tensor of unknown shape. This may consume a large amount of memory.\n",
      "  \"shape. This may consume a large amount of memory.\" % value)\n",
      "C:\\Users\\ascoh\\Anaconda3\\envs\\applied-ai\\lib\\site-packages\\tensorflow\\python\\framework\\indexed_slices.py:437: UserWarning: Converting sparse IndexedSlices(IndexedSlices(indices=Tensor(\"gradient_tape/model_4/message_passing/Reshape_27:0\", shape=(None,), dtype=int32), values=Tensor(\"gradient_tape/model_4/message_passing/Reshape_26:0\", shape=(None, 64), dtype=float32), dense_shape=Tensor(\"gradient_tape/model_4/message_passing/Cast_6:0\", shape=(2,), dtype=int32))) to a dense Tensor of unknown shape. This may consume a large amount of memory.\n",
      "  \"shape. This may consume a large amount of memory.\" % value)\n",
      "C:\\Users\\ascoh\\Anaconda3\\envs\\applied-ai\\lib\\site-packages\\tensorflow\\python\\framework\\indexed_slices.py:437: UserWarning: Converting sparse IndexedSlices(IndexedSlices(indices=Tensor(\"gradient_tape/model_4/message_passing/Reshape_31:0\", shape=(None,), dtype=int32), values=Tensor(\"gradient_tape/model_4/message_passing/Reshape_30:0\", shape=(None, 64), dtype=float32), dense_shape=Tensor(\"gradient_tape/model_4/message_passing/Cast_7:0\", shape=(2,), dtype=int32))) to a dense Tensor of unknown shape. This may consume a large amount of memory.\n",
      "  \"shape. This may consume a large amount of memory.\" % value)\n"
     ]
    },
    {
     "name": "stderr",
     "output_type": "stream",
     "text": [
      "100%|███████████████████████████████████████████████████████████████████████████████████| 4/4 [06:55<00:00, 103.88s/it]\n"
     ]
    }
   ],
   "source": [
    "Networks={}\n",
    "scales={}\n",
    "for i in tqdm([0,1,4,8]):    \n",
    "    Networks[f'model_{i}']=make_model(64,i)\n",
    "    \n",
    "    scales[f'scale_{s}'] = Networks[f'model_{i}'].get_layer('scaling')\n",
    "    scales[f'scale_{s}'].mean = outputs.numpy().mean()\n",
    "    scales[f'scale_{s}'].std = outputs.numpy().std()\n",
    "    \n",
    "    Networks[f'model_{i}'].compile('adam', loss='mean_squared_error')\n",
    "    Networks[f'model_{i}'].fit(train_loader, epochs=128, batch_size=32, callbacks=[callback], verbose=False)"
   ]
  },
  {
   "cell_type": "markdown",
   "id": "posted-reward",
   "metadata": {},
   "source": [
    "Plot the change in the best loss on the test set as a function of number of layers."
   ]
  },
  {
   "cell_type": "code",
   "execution_count": 12,
   "id": "educated-dakota",
   "metadata": {},
   "outputs": [
    {
     "name": "stdout",
     "output_type": "stream",
     "text": [
      "Evaluate on test data\n",
      "test loss: {'Eval_0': 0.0016590234590694308, 'Eval_2': 0.0006497114663943648, 'Eval_1': 0.0007103256648406386, 'Eval_4': 0.0012037598062306643, 'Eval_8': 0.001457061618566513}\n"
     ]
    }
   ],
   "source": [
    "results={}\n",
    "print(\"Evaluate on test data\")\n",
    "for r in (0,1,4,8):\n",
    "    results[f'Eval_{r}'] = Networks[f'model_{r}'].evaluate(test_loader, batch_size=128, verbose=False)\n",
    "    results['Eval_2'] = Eval\n",
    "print(\"test loss:\", results)"
   ]
  },
  {
   "cell_type": "code",
   "execution_count": 13,
   "id": "incorporated-leeds",
   "metadata": {},
   "outputs": [
    {
     "data": {
      "image/png": "[encoded data removed]",
      "text/plain": [
       "<Figure size 432x288 with 1 Axes>"
      ]
     },
     "metadata": {
      "needs_background": "light"
     },
     "output_type": "display_data"
    }
   ],
   "source": [
    "fig, ax = plt.subplots()\n",
    "\n",
    "ax.plot((0,1,2,4,8),(results['Eval_0'],results['Eval_1'],results['Eval_2'],results['Eval_4'],results['Eval_8']), '--o')\n",
    "ax.set_ylabel('Best Loss')\n",
    "ax.set_xlabel('Number of MPNN Layers')\n",
    "ax.set_title('Best Loss vs. Layers')\n",
    "\n",
    "ax.grid(True)"
   ]
  },
  {
   "cell_type": "markdown",
   "id": "agricultural-riding",
   "metadata": {},
   "source": [
    " ### Q\n",
    " \n",
    " 1. Do you observe a continual increase with the number of layers?\n",
    " \n",
    "         No, after 2 layers the model no longer improves after two layers. This indicates that increased complexity is no longer beneficial to the model."
   ]
  },
  {
   "cell_type": "markdown",
   "id": "binding-fifty",
   "metadata": {},
   "source": [
    "## Question 3: Evaluate different readout layers\n",
    "\n",
    "All of our previous questions used the atomization energy as an output. Atomization energy generally increases with the size of the molecule because there are more bonds to break. So, our choice of summation for the readout function is a good one: more atoms means bigger sums and larger predicted values.\n",
    "\n",
    "Band gaps, on the other hand, do not have such a scaling behavior. They are instead due to a property of two specific atoms in the molecule: one that has a high-energy occupied orbital and a second that has a low-energy unoccupied orbital.\n",
    "\n",
    "In this problem, we will explore the effect of changing the \"Readout function.\"\n",
    "\n",
    "Train a total of 4 models each with 4 message passing steps and 64 features but varying whether we use u0_atom or bandgap to fit the model and whether we use \"sum\" or \"max\" as a readout function:"
   ]
  },
  {
   "cell_type": "code",
   "execution_count": 14,
   "id": "controlling-prisoner",
   "metadata": {},
   "outputs": [
    {
     "data": {
      "text/plain": [
       "['model_atom_max', 'model_atom_sum', 'model_bandgap_max', 'model_bandgap_sum']"
      ]
     },
     "execution_count": 14,
     "metadata": {},
     "output_type": "execute_result"
    }
   ],
   "source": [
    "SumMax={}\n",
    "SumMax['model_atom_sum']=make_model(64,4,'sum')\n",
    "SumMax['model_atom_max']=make_model(64,4,'max')\n",
    "SumMax['model_bandgap_sum']=make_model(64,4,'sum')\n",
    "SumMax['model_bandgap_max']=make_model(64,4,'max')\n",
    "R_Models = sorted(SumMax)\n",
    "R_Models"
   ]
  },
  {
   "cell_type": "code",
   "execution_count": 20,
   "id": "above-philip",
   "metadata": {},
   "outputs": [],
   "source": [
    "atom_loader = mpnn.data.make_data_loader('C:/Users/ascoh/Desktop/UChicago/Academics/2020-21/Q2 2021/AI for MatSci/Datasets/train_data.proto', \n",
    "                                        batch_size=32, \n",
    "                                        shuffle_buffer=128, output_property = 'u0_atom')\n",
    "atom_test_loader = mpnn.data.make_data_loader('C:/Users/ascoh/Desktop/UChicago/Academics/2020-21/Q2 2021/AI for MatSci/Datasets/test_data.proto', \n",
    "                                        batch_size=32, \n",
    "                                        output_property = 'u0_atom')\n",
    "atom_valid_loader = mpnn.data.make_data_loader('C:/Users/ascoh/Desktop/UChicago/Academics/2020-21/Q2 2021/AI for MatSci/Datasets/valid_data.proto', \n",
    "                                        batch_size=32, \n",
    "                                        output_property = 'u0_atom')\n",
    "\n",
    "\n",
    "bandgap_loader = mpnn.data.make_data_loader('C:/Users/ascoh/Desktop/UChicago/Academics/2020-21/Q2 2021/AI for MatSci/Datasets/train_data.proto', \n",
    "                                        batch_size=32, \n",
    "                                        shuffle_buffer=128, output_property = 'bandgap')\n",
    "bandgap_test_loader = mpnn.data.make_data_loader('C:/Users/ascoh/Desktop/UChicago/Academics/2020-21/Q2 2021/AI for MatSci/Datasets/test_data.proto', \n",
    "                                        batch_size=32, \n",
    "                                        output_property = 'bandgap')\n",
    "bandgap_valid_loader = mpnn.data.make_data_loader('C:/Users/ascoh/Desktop/UChicago/Academics/2020-21/Q2 2021/AI for MatSci/Datasets/valid_data.proto', \n",
    "                                        batch_size=32, \n",
    "                                        output_property = 'bandgap')"
   ]
  },
  {
   "cell_type": "code",
   "execution_count": 23,
   "id": "exceptional-essay",
   "metadata": {},
   "outputs": [
    {
     "name": "stderr",
     "output_type": "stream",
     "text": [
      "100%|████████████████████████████████████████████████████████████████████████████████████| 4/4 [05:52<00:00, 88.20s/it]\n"
     ]
    }
   ],
   "source": [
    "readout_func = ('Max','Sum','Max','Sum')\n",
    "scales={}\n",
    "y_pred={}\n",
    "y_true={}\n",
    "Full = []\n",
    "for s in tqdm(range(len(R_Models))):\n",
    "    if s<2:\n",
    "        train_selection = atom_loader\n",
    "        test_selection = atom_test_loader\n",
    "        valid_selection = atom_valid_loader\n",
    "        feat = 'u0_atom'\n",
    "    else:\n",
    "        train_selection = bandgap_loader\n",
    "        test_selection = bandgap_test_loader\n",
    "        valid_selection = bandgap_valid_loader\n",
    "        feat = 'bandgap'\n",
    "        \n",
    "    SumMax[f'{R_Models[s]}'].compile(optimizer='adam', loss='mean_squared_error')\n",
    "    SumMax[f'{R_Models[s]}'].fit(train_selection, epochs=128, batch_size=32, \n",
    "                    callbacks=[callback], verbose=False, \n",
    "                    validation_data=(valid_loader)\n",
    "                   )\n",
    "    \n",
    "    inputs, outputs = next(iter(train_selection))\n",
    "    scales[f'scale_{s}'] = SumMax[f'{R_Models[s]}'].get_layer('scaling')\n",
    "    scales[f'scale_{s}'].mean = outputs.numpy().mean()\n",
    "    scales[f'scale_{s}'].std = outputs.numpy().std()\n",
    "    \n",
    "    y_pred[f'{R_Models[s]}']=SumMax[f'{R_Models[s]}'].predict(test_selection)[:,0]\n",
    "    \n",
    "    y_true[f'{R_Models[s]}'] = np.concatenate([output[1] for output in test_selection])\n",
    "    \n",
    "    Full.append({\n",
    "        'model': R_Models[s],\n",
    "        'feature': feat,\n",
    "        'readout':readout_func[s],\n",
    "        'y_true': y_true[f'{R_Models[s]}'],\n",
    "        'y_pred': y_pred[f'{R_Models[s]}']\n",
    "    })\n",
    "\n",
    "Full = pd.DataFrame(Full)"
   ]
  },
  {
   "cell_type": "markdown",
   "id": "deadly-steel",
   "metadata": {},
   "source": [
    "Plot the predicted vs actual values for each of the networks on the test set."
   ]
  },
  {
   "cell_type": "code",
   "execution_count": 28,
   "id": "suited-breakdown",
   "metadata": {},
   "outputs": [
    {
     "data": {
      "image/png": "[encoded data removed]",
      "text/plain": [
       "<Figure size 432x288 with 4 Axes>"
      ]
     },
     "metadata": {
      "needs_background": "light"
     },
     "output_type": "display_data"
    }
   ],
   "source": [
    "fig, axxs = plt.subplots(2, 2, sharey='row')\n",
    "\n",
    "for (feature, group), axs in zip(Full.groupby('feature'), axxs):\n",
    "    for (readout_func, loc), ax in zip(group.groupby('readout'), axs):\n",
    "        loc = loc.iloc[0]\n",
    "        ax.scatter(loc['y_true'], loc['y_pred'])       \n",
    "        \n",
    "        ax.set_xlim([np.concatenate(loc[['y_true', 'y_pred']]).min(),\n",
    "                   np.concatenate(loc[['y_true', 'y_pred']]).max()])\n",
    "        ax.set_ylim(ax.get_xlim())\n",
    "        \n",
    "        ax.plot(ax.get_xlim(), ax.get_xlim(), 'k--')\n",
    "        \n",
    "        \n",
    "\n",
    "axxs[1,0].set_xlabel('MPNN Predictions')\n",
    "axxs[1,1].set_xlabel('MPNN Predictions')\n",
    "\n",
    "axxs[0,0].set_ylabel('True Bandgap')\n",
    "axxs[1,0].set_ylabel('True Atom Energy')\n",
    "\n",
    "        \n",
    "axxs[0,0].set_title('Bandgap -- Max')\n",
    "axxs[1,0].set_title('u0_atom -- Max')\n",
    "axxs[0,1].set_title('Bandgap -- Sum')\n",
    "axxs[1,1].set_title('u0_atom -- Sum')\n",
    "     \n",
    "fig.tight_layout()"
   ]
  },
  {
   "cell_type": "code",
   "execution_count": 25,
   "id": "faced-greece",
   "metadata": {},
   "outputs": [
    {
     "data": {
      "text/html": [
       "<div>\n",
       "<style scoped>\n",
       "    .dataframe tbody tr th:only-of-type {\n",
       "        vertical-align: middle;\n",
       "    }\n",
       "\n",
       "    .dataframe tbody tr th {\n",
       "        vertical-align: top;\n",
       "    }\n",
       "\n",
       "    .dataframe thead th {\n",
       "        text-align: right;\n",
       "    }\n",
       "</style>\n",
       "<table border=\"1\" class=\"dataframe\">\n",
       "  <thead>\n",
       "    <tr style=\"text-align: right;\">\n",
       "      <th></th>\n",
       "      <th>model</th>\n",
       "      <th>mae</th>\n",
       "    </tr>\n",
       "  </thead>\n",
       "  <tbody>\n",
       "    <tr>\n",
       "      <th>0</th>\n",
       "      <td>model_atom_max</td>\n",
       "      <td>0.154830</td>\n",
       "    </tr>\n",
       "    <tr>\n",
       "      <th>1</th>\n",
       "      <td>model_atom_sum</td>\n",
       "      <td>0.076068</td>\n",
       "    </tr>\n",
       "    <tr>\n",
       "      <th>2</th>\n",
       "      <td>model_bandgap_max</td>\n",
       "      <td>0.012342</td>\n",
       "    </tr>\n",
       "    <tr>\n",
       "      <th>3</th>\n",
       "      <td>model_bandgap_sum</td>\n",
       "      <td>0.015044</td>\n",
       "    </tr>\n",
       "  </tbody>\n",
       "</table>\n",
       "</div>"
      ],
      "text/plain": [
       "               model       mae\n",
       "0     model_atom_max  0.154830\n",
       "1     model_atom_sum  0.076068\n",
       "2  model_bandgap_max  0.012342\n",
       "3  model_bandgap_sum  0.015044"
      ]
     },
     "execution_count": 25,
     "metadata": {},
     "output_type": "execute_result"
    }
   ],
   "source": [
    "Full['mae']=[np.abs(Full['y_true'][x]-Full['y_pred'][x]).mean() for x in range(len(Full))]\n",
    "Full[['model', 'mae']]"
   ]
  },
  {
   "cell_type": "markdown",
   "id": "adequate-cherry",
   "metadata": {},
   "source": [
    "### Q\n",
    "\n",
    "1. Explain how the max readout function produces features that do not scale with molecule size.\n",
    "\n",
    "       The max readout function returns only the maximum values from each segment of a tensor. Thus, size is not an argurment of the function, only numerical value. As a molecule increases in size, this causes the number of values within a tensor to rise, but not the relative weight of each value, thereby preserving the maximum value.\n",
    "\n",
    "2. Which readout performs better for each output?\n",
    "\n",
    "       For the atomization energy, the sum readout function performs better. For bandgap, the sum performs worse while the max performs better. This is because atomization energy generally increases with atom size. Thus, summing over array segments trains the model to appropriately correlate large atomization energies and large atoms. For bandgap, however, the relation is more subtle. Rather than being dependent upon size, bandgap is dependent on the orbitals of neighboring atoms. In order for the Message Passing Network to recognize this behavior, it must prioritize values of certain atom classifications over just raw size increase - this makes the max function suitable. These relationships can be seen by observing the calculuted MAE in the dataframe above."
   ]
  },
  {
   "cell_type": "code",
   "execution_count": 49,
   "id": "german-patio",
   "metadata": {},
   "outputs": [
    {
     "name": "stdout",
     "output_type": "stream",
     "text": [
      "For Bandgap Energy, the Softmax Energy has a lower MAE by\n",
      "0.002702031284570694\n"
     ]
    }
   ],
   "source": [
    "print(f'For Bandgap Energy, the Softmax Energy has a lower MAE by')\n",
    "print(Full['mae'][3]-Full['mae'][2])"
   ]
  },
  {
   "cell_type": "code",
   "execution_count": null,
   "id": "special-leone",
   "metadata": {},
   "outputs": [],
   "source": []
  }
 ],
 "metadata": {
  "kernelspec": {
   "display_name": "Python 3",
   "language": "python",
   "name": "python3"
  },
  "language_info": {
   "codemirror_mode": {
    "name": "ipython",
    "version": 3
   },
   "file_extension": ".py",
   "mimetype": "text/x-python",
   "name": "python",
   "nbconvert_exporter": "python",
   "pygments_lexer": "ipython3",
   "version": "3.7.10"
  }
 },
 "nbformat": 4,
 "nbformat_minor": 5
}
